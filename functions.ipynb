{
  "nbformat": 4,
  "nbformat_minor": 0,
  "metadata": {
    "colab": {
      "name": "functions.ipynb",
      "provenance": [],
      "authorship_tag": "ABX9TyPqtvssFFNGyWn9oISlRa8I",
      "include_colab_link": true
    },
    "kernelspec": {
      "name": "python3",
      "display_name": "Python 3"
    },
    "language_info": {
      "name": "python"
    }
  },
  "cells": [
    {
      "cell_type": "markdown",
      "metadata": {
        "id": "view-in-github",
        "colab_type": "text"
      },
      "source": [
        "<a href=\"https://colab.research.google.com/github/Gurumurthy16/DataScience-Demo-2022/blob/main/functions.ipynb\" target=\"_parent\"><img src=\"https://colab.research.google.com/assets/colab-badge.svg\" alt=\"Open In Colab\"/></a>"
      ]
    },
    {
      "cell_type": "markdown",
      "source": [
        "## Getting started with functions"
      ],
      "metadata": {
        "id": "W-Qc5pUxFS3o"
      }
    },
    {
      "cell_type": "code",
      "source": [
        "def simple_function(): pass"
      ],
      "metadata": {
        "id": "FryV7zpZFeLI"
      },
      "execution_count": 1,
      "outputs": []
    },
    {
      "cell_type": "code",
      "source": [
        "def simple_function1():\n",
        "  return 1"
      ],
      "metadata": {
        "id": "g8oN8Z8nFwYs"
      },
      "execution_count": 2,
      "outputs": []
    },
    {
      "cell_type": "markdown",
      "source": [
        "## Put things into the functions"
      ],
      "metadata": {
        "id": "rgPYrIJLF8m7"
      }
    },
    {
      "cell_type": "code",
      "source": [
        "def add(x,y):\n",
        "  return x+y"
      ],
      "metadata": {
        "id": "mgioRc-XGC9J"
      },
      "execution_count": 3,
      "outputs": []
    },
    {
      "cell_type": "code",
      "source": [
        "add(1,1)"
      ],
      "metadata": {
        "colab": {
          "base_uri": "https://localhost:8080/"
        },
        "id": "g8Y1HLS4GUru",
        "outputId": "393a3cc9-0d31-451c-c22e-132b05c91892"
      },
      "execution_count": 4,
      "outputs": [
        {
          "output_type": "execute_result",
          "data": {
            "text/plain": [
              "2"
            ]
          },
          "metadata": {},
          "execution_count": 4
        }
      ]
    },
    {
      "cell_type": "code",
      "source": [
        "foods = [\"apple\",\"eggs\",\"butter\"]"
      ],
      "metadata": {
        "id": "J-TIXOXhGWHT"
      },
      "execution_count": 5,
      "outputs": []
    },
    {
      "cell_type": "code",
      "source": [
        "def complicated_functions(my_food):\n",
        "  total = len(my_food)\n",
        "  print(f\"I am very hungry and i am ready to eat: {total} foods!\")\n",
        "  for food in my_food:\n",
        "    print(f\"I love to wake up and eat: {food} \")"
      ],
      "metadata": {
        "id": "EW64OpsaHdye"
      },
      "execution_count": 6,
      "outputs": []
    },
    {
      "cell_type": "code",
      "source": [
        "complicated_functions(foods)"
      ],
      "metadata": {
        "colab": {
          "base_uri": "https://localhost:8080/"
        },
        "id": "f6c4bTDEIWkO",
        "outputId": "da28824b-9229-4411-a65d-67df47ec8b46"
      },
      "execution_count": 7,
      "outputs": [
        {
          "output_type": "stream",
          "name": "stdout",
          "text": [
            "I am very hungry and i am ready to eat: 3 foods!\n",
            "I love to wake up and eat: apple \n",
            "I love to wake up and eat: eggs \n",
            "I love to wake up and eat: butter \n"
          ]
        }
      ]
    },
    {
      "cell_type": "code",
      "source": [
        "complicated_functions([\"steak\",\"ham\",\"bacon\"])"
      ],
      "metadata": {
        "colab": {
          "base_uri": "https://localhost:8080/"
        },
        "id": "P7im7sJtIqEP",
        "outputId": "920e7727-feff-4c31-9ce1-43bf8e2b68ec"
      },
      "execution_count": 8,
      "outputs": [
        {
          "output_type": "stream",
          "name": "stdout",
          "text": [
            "I am very hungry and i am ready to eat: 3 foods!\n",
            "I love to wake up and eat: steak \n",
            "I love to wake up and eat: ham \n",
            "I love to wake up and eat: bacon \n"
          ]
        }
      ]
    },
    {
      "cell_type": "code",
      "source": [
        ""
      ],
      "metadata": {
        "id": "tHX6KSRiIzgA"
      },
      "execution_count": null,
      "outputs": []
    }
  ]
}